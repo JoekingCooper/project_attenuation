{
 "cells": [
  {
   "cell_type": "code",
   "execution_count": 1,
   "metadata": {},
   "outputs": [],
   "source": [
    "import numpy as np\n",
    "import random\n",
    "import pickle\n",
    "from create_gen_0 import CreateGeneration0"
   ]
  },
  {
   "cell_type": "code",
   "execution_count": 2,
   "metadata": {},
   "outputs": [
    {
     "data": {
      "text/plain": [
       "'C:\\\\Users\\\\Joseph\\\\Documents\\\\project_attenuation\\\\notebooks'"
      ]
     },
     "execution_count": 2,
     "metadata": {},
     "output_type": "execute_result"
    }
   ],
   "source": [
    "import os\n",
    "cwd = os.getcwd()\n",
    "cwd"
   ]
  },
  {
   "cell_type": "code",
   "execution_count": null,
   "metadata": {},
   "outputs": [],
   "source": []
  },
  {
   "cell_type": "markdown",
   "metadata": {},
   "source": [
    "# so we have a dead generation, now lets make a new generation and test the new class\n",
    "first load in the old generation"
   ]
  },
  {
   "cell_type": "code",
   "execution_count": 3,
   "metadata": {},
   "outputs": [],
   "source": [
    "gen0deadpath = os.path.abspath(os.path.join(cwd, '..', 'storage','generation_1_pool','gen0_dead.pickle'))\n",
    "\n",
    "with open(gen0deadpath, 'rb') as handle:\n",
    "    gen0dead = pickle.load(handle)"
   ]
  },
  {
   "cell_type": "code",
   "execution_count": 4,
   "metadata": {},
   "outputs": [],
   "source": [
    "from breed_generation import BreedGeneration"
   ]
  },
  {
   "cell_type": "code",
   "execution_count": 5,
   "metadata": {},
   "outputs": [],
   "source": [
    "BG = BreedGeneration(gen0dead,number_of_fighters = 64)\n",
    "BG.pipeline()\n",
    "gen1 = BG.generation_dict"
   ]
  },
  {
   "cell_type": "code",
   "execution_count": 6,
   "metadata": {},
   "outputs": [],
   "source": [
    "from alpha_motive_tournament import AlphaMotiveTournament"
   ]
  },
  {
   "cell_type": "code",
   "execution_count": 7,
   "metadata": {},
   "outputs": [],
   "source": [
    "AMT = AlphaMotiveTournament(gen1)"
   ]
  },
  {
   "cell_type": "code",
   "execution_count": 8,
   "metadata": {},
   "outputs": [],
   "source": [
    "AMT.resetPools()\n",
    "AMT.tournament(printswitch=True)"
   ]
  },
  {
   "cell_type": "code",
   "execution_count": 9,
   "metadata": {},
   "outputs": [
    {
     "data": {
      "text/plain": [
       "{'name': 'Alvira Gray',\n",
       " 'last_name': 'Gray',\n",
       " 'alive': 1,\n",
       " 'attributes': array([[0.82853236, 0.41218766, 0.01457756],\n",
       "        [0.99384823, 0.87725771, 0.51695991],\n",
       "        [0.7792856 , 0.86674697, 0.89414243]]),\n",
       " 'wins': 6,\n",
       " 'tournament_count': 1}"
      ]
     },
     "execution_count": 9,
     "metadata": {},
     "output_type": "execute_result"
    }
   ],
   "source": [
    "AMT.fighter_dict['fighters'][AMT.tournament_winner]"
   ]
  },
  {
   "cell_type": "code",
   "execution_count": 10,
   "metadata": {},
   "outputs": [],
   "source": [
    "gen1dead = AMT.fighter_dict"
   ]
  },
  {
   "cell_type": "code",
   "execution_count": 11,
   "metadata": {},
   "outputs": [],
   "source": [
    "BG = BreedGeneration(gen1dead,number_of_fighters = 64)\n",
    "BG.pipeline()\n",
    "gen2 = BG.generation_dict"
   ]
  },
  {
   "cell_type": "code",
   "execution_count": 12,
   "metadata": {},
   "outputs": [],
   "source": [
    "AMT = AlphaMotiveTournament(gen2)\n",
    "AMT.resetPools()\n",
    "AMT.tournament(printswitch=False)"
   ]
  },
  {
   "cell_type": "code",
   "execution_count": 13,
   "metadata": {},
   "outputs": [
    {
     "data": {
      "text/plain": [
       "{'name': 'Fulvia Rust',\n",
       " 'last_name': 'Rust',\n",
       " 'alive': 1,\n",
       " 'attributes': array([[1.01179072, 0.35889593, 0.86119644],\n",
       "        [0.47019071, 0.84446289, 0.97782224],\n",
       "        [0.35842593, 0.18552219, 0.8516906 ]]),\n",
       " 'wins': 6,\n",
       " 'tournament_count': 1}"
      ]
     },
     "execution_count": 13,
     "metadata": {},
     "output_type": "execute_result"
    }
   ],
   "source": [
    "AMT.fighter_dict['fighters'][AMT.tournament_winner]"
   ]
  },
  {
   "cell_type": "code",
   "execution_count": 14,
   "metadata": {},
   "outputs": [
    {
     "data": {
      "text/plain": [
       "{'name': 'Caralie Strongtree',\n",
       " 'last_name': 'Strongtree',\n",
       " 'alive': 1,\n",
       " 'attributes': array([[0.37469087, 0.79053565, 0.853353  ],\n",
       "        [0.51779787, 0.53196312, 0.93118854],\n",
       "        [0.39218261, 0.91377676, 0.84712274]]),\n",
       " 'wins': 6,\n",
       " 'tournament_count': 1}"
      ]
     },
     "execution_count": 14,
     "metadata": {},
     "output_type": "execute_result"
    }
   ],
   "source": [
    "gen2dead = AMT.fighter_dict\n",
    "BG = BreedGeneration(gen2dead,number_of_fighters = 64)\n",
    "BG.pipeline()\n",
    "gen3 = BG.generation_dict\n",
    "AMT = AlphaMotiveTournament(gen3)\n",
    "AMT.resetPools()\n",
    "AMT.tournament(printswitch=False)\n",
    "AMT.fighter_dict['fighters'][AMT.tournament_winner]"
   ]
  },
  {
   "cell_type": "code",
   "execution_count": 15,
   "metadata": {},
   "outputs": [
    {
     "data": {
      "text/plain": [
       "{'name': 'Ninon Beretta',\n",
       " 'last_name': 'Beretta',\n",
       " 'alive': 1,\n",
       " 'attributes': array([[0.54427387, 0.95910641, 0.62051892],\n",
       "        [0.74339452, 0.94651008, 0.41637582],\n",
       "        [0.38383593, 0.4973825 , 0.98948684]]),\n",
       " 'wins': 6,\n",
       " 'tournament_count': 1}"
      ]
     },
     "execution_count": 15,
     "metadata": {},
     "output_type": "execute_result"
    }
   ],
   "source": [
    "gen3dead = AMT.fighter_dict\n",
    "BG = BreedGeneration(gen3dead,number_of_fighters = 64)\n",
    "BG.pipeline()\n",
    "gen4 = BG.generation_dict\n",
    "AMT = AlphaMotiveTournament(gen4)\n",
    "AMT.resetPools()\n",
    "AMT.tournament(printswitch=False)\n",
    "AMT.fighter_dict['fighters'][AMT.tournament_winner]"
   ]
  },
  {
   "cell_type": "code",
   "execution_count": null,
   "metadata": {},
   "outputs": [],
   "source": [
    "gen4dead = AMT.fighter_dict\n",
    "BG = BreedGeneration(gen4dead,number_of_fighters = 64)\n",
    "BG.pipeline()\n",
    "gen5 = BG.generation_dict"
   ]
  },
  {
   "cell_type": "code",
   "execution_count": 18,
   "metadata": {},
   "outputs": [
    {
     "name": "stdout",
     "output_type": "stream",
     "text": [
      "Stage: 0\n",
      "... Fight 1\n",
      "... -  Vilma Strongtree Vs. Debbi Rust\n",
      "... -  Debbi Rust is the winner!\n",
      "... Fight 2\n",
      "... -  Shaun Garland Vs. Carley Rust\n",
      "... -  Shaun Garland is the winner!\n",
      "... Fight 3\n",
      "... -  Devina Strongtree Vs. Gianna Rust\n",
      "... -  Gianna Rust is the winner!\n",
      "... Fight 4\n",
      "... -  Consolata Rust Vs. Adiana Rust\n",
      "... -  Adiana Rust is the winner!\n",
      "... Fight 5\n",
      "... -  Fredelia Beretta Vs. Marice Darkscar\n",
      "... -  Marice Darkscar is the winner!\n",
      "... Fight 6\n",
      "... -  Marjy Beretta Vs. Leone Rust\n",
      "... -  Marjy Beretta is the winner!\n",
      "... Fight 7\n",
      "... -  Xaviera Rust Vs. Alie Meridian\n",
      "... -  Alie Meridian is the winner!\n",
      "... Fight 8\n",
      "... -  Legra Rust Vs. Amalee Rust\n",
      "... -  Legra Rust is the winner!\n",
      "... Fight 9\n",
      "... -  Arda Beretta Vs. Jacklin Darkscar\n",
      "... -  Arda Beretta is the winner!\n",
      "... Fight 10\n",
      "... -  Colene Rust Vs. Tamra Strongtree\n",
      "... -  Tamra Strongtree is the winner!\n",
      "... Fight 11\n",
      "... -  Maryl Strongtree Vs. Joleen Strongtree\n",
      "... -  Maryl Strongtree is the winner!\n",
      "... Fight 12\n",
      "... -  Nikki Rust Vs. Darlene Rust\n",
      "... -  Darlene Rust is the winner!\n",
      "... Fight 13\n",
      "... -  Estel Rust Vs. Cristal Rust\n",
      "... -  Estel Rust is the winner!\n",
      "... Fight 14\n",
      "... -  Tabatha Wyvern Vs. Vin Rust\n",
      "... -  Vin Rust is the winner!\n",
      "... Fight 15\n",
      "... -  Issi Rust Vs. Poppy Rust\n",
      "... -  Issi Rust is the winner!\n",
      "... Fight 16\n",
      "... -  Barbie Rust Vs. Dee Dee Strongtree\n",
      "... -  Dee Dee Strongtree is the winner!\n",
      "... Fight 17\n",
      "... -  Vernice Beretta Vs. Aurelea Beretta\n",
      "... -  Vernice Beretta is the winner!\n",
      "... Fight 18\n",
      "... -  Dale Beretta Vs. Carlynne Strongtree\n",
      "... -  Dale Beretta is the winner!\n",
      "... Fight 19\n",
      "... -  Amye Beretta Vs. Anne-Corinne Rust\n",
      "... -  Amye Beretta is the winner!\n",
      "... Fight 20\n",
      "... -  Gabie Darkscar Vs. Stephi Rust\n",
      "... -  Stephi Rust is the winner!\n",
      "... Fight 21\n",
      "... -  Barry Beretta Vs. Lynsey Rust\n",
      "... -  Lynsey Rust is the winner!\n",
      "... Fight 22\n",
      "... -  Bea Strongtree Vs. Margarita Beretta\n",
      "... -  Margarita Beretta is the winner!\n",
      "... Fight 23\n",
      "... -  Bridgette Rust Vs. Oneida Meridian\n",
      "... -  Bridgette Rust is the winner!\n",
      "... Fight 24\n",
      "... -  Selie Rust Vs. Adrianna Rust\n",
      "... -  Adrianna Rust is the winner!\n",
      "... Fight 25\n",
      "... -  Madlen Strongtree Vs. Daisi Rust\n",
      "... -  Daisi Rust is the winner!\n",
      "... Fight 26\n",
      "... -  Renie Meridian Vs. Winny Rust\n",
      "... -  Winny Rust is the winner!\n",
      "... Fight 27\n",
      "... -  Shaun Rust Vs. Analise Strongtree\n",
      "... -  Shaun Rust is the winner!\n",
      "... Fight 28\n",
      "... -  Danit Rust Vs. Jeniece Strongtree\n",
      "... -  Danit Rust is the winner!\n",
      "... Fight 29\n",
      "... -  Angy Strongtree Vs. Corly Darkscar\n",
      "... -  Corly Darkscar is the winner!\n",
      "... Fight 30\n",
      "... -  Grata Strongtree Vs. Nona Beretta\n",
      "... -  Grata Strongtree is the winner!\n",
      "... Fight 31\n",
      "... -  Dulcea Rust Vs. Nerta Beretta\n",
      "... -  Nerta Beretta is the winner!\n",
      "... Fight 32\n",
      "... -  Sharity Rust Vs. Rachele Strongtree\n",
      "... -  Rachele Strongtree is the winner!\n",
      "Stage: 1\n",
      "... Fight 33\n",
      "... -  Darlene Rust Vs. Adiana Rust\n",
      "... -  Darlene Rust is the winner!\n",
      "... Fight 34\n",
      "... -  Maryl Strongtree Vs. Dale Beretta\n",
      "... -  Maryl Strongtree is the winner!\n",
      "... Fight 35\n",
      "... -  Legra Rust Vs. Lynsey Rust\n",
      "... -  Lynsey Rust is the winner!\n",
      "... Fight 36\n",
      "... -  Nerta Beretta Vs. Winny Rust\n",
      "... -  Winny Rust is the winner!\n",
      "... Fight 37\n",
      "... -  Arda Beretta Vs. Gianna Rust\n",
      "... -  Arda Beretta is the winner!\n",
      "... Fight 38\n",
      "... -  Adrianna Rust Vs. Danit Rust\n",
      "... -  Danit Rust is the winner!\n",
      "... Fight 39\n",
      "... -  Stephi Rust Vs. Grata Strongtree\n",
      "... -  Stephi Rust is the winner!\n",
      "... Fight 40\n",
      "... -  Issi Rust Vs. Tamra Strongtree\n",
      "... -  Issi Rust is the winner!\n",
      "... Fight 41\n",
      "... -  Marice Darkscar Vs. Bridgette Rust\n",
      "... -  Marice Darkscar is the winner!\n",
      "... Fight 42\n",
      "... -  Shaun Rust Vs. Margarita Beretta\n",
      "... -  Margarita Beretta is the winner!\n",
      "... Fight 43\n",
      "... -  Estel Rust Vs. Amye Beretta\n",
      "... -  Amye Beretta is the winner!\n",
      "... Fight 44\n",
      "... -  Daisi Rust Vs. Shaun Garland\n",
      "... -  Daisi Rust is the winner!\n",
      "... Fight 45\n",
      "... -  Vin Rust Vs. Vernice Beretta\n",
      "... -  Vernice Beretta is the winner!\n",
      "... Fight 46\n",
      "... -  Alie Meridian Vs. Corly Darkscar\n",
      "... -  Alie Meridian is the winner!\n",
      "... Fight 47\n",
      "... -  Dee Dee Strongtree Vs. Marjy Beretta\n",
      "... -  Marjy Beretta is the winner!\n",
      "... Fight 48\n",
      "... -  Rachele Strongtree Vs. Debbi Rust\n",
      "... -  Debbi Rust is the winner!\n",
      "Stage: 2\n",
      "... Fight 49\n",
      "... -  Margarita Beretta Vs. Lynsey Rust\n",
      "... -  Margarita Beretta is the winner!\n",
      "... Fight 50\n",
      "... -  Marice Darkscar Vs. Arda Beretta\n",
      "... -  Marice Darkscar is the winner!\n",
      "... Fight 51\n",
      "... -  Debbi Rust Vs. Darlene Rust\n",
      "... -  Debbi Rust is the winner!\n",
      "... Fight 52\n",
      "... -  Issi Rust Vs. Stephi Rust\n",
      "... -  Issi Rust is the winner!\n",
      "... Fight 53\n",
      "... -  Alie Meridian Vs. Vernice Beretta\n",
      "... -  Vernice Beretta is the winner!\n",
      "... Fight 54\n",
      "... -  Marjy Beretta Vs. Winny Rust\n",
      "... -  Marjy Beretta is the winner!\n",
      "... Fight 55\n",
      "... -  Amye Beretta Vs. Daisi Rust\n",
      "... -  Daisi Rust is the winner!\n",
      "... Fight 56\n",
      "... -  Danit Rust Vs. Maryl Strongtree\n",
      "... -  Maryl Strongtree is the winner!\n",
      "Stage: 3\n",
      "... Fight 57\n",
      "... -  Vernice Beretta Vs. Marice Darkscar\n",
      "... -  Marice Darkscar is the winner!\n",
      "... Fight 58\n",
      "... -  Maryl Strongtree Vs. Debbi Rust\n",
      "... -  Maryl Strongtree is the winner!\n",
      "... Fight 59\n",
      "... -  Margarita Beretta Vs. Daisi Rust\n",
      "... -  Daisi Rust is the winner!\n",
      "... Fight 60\n",
      "... -  Marjy Beretta Vs. Issi Rust\n",
      "... -  Issi Rust is the winner!\n",
      "Stage: 4\n",
      "... Fight 61\n",
      "... -  Issi Rust Vs. Marice Darkscar\n",
      "... -  Issi Rust is the winner!\n",
      "... Fight 62\n",
      "... -  Daisi Rust Vs. Maryl Strongtree\n",
      "... -  Daisi Rust is the winner!\n",
      "Stage: 5\n",
      "... Fight 63\n",
      "... -  Issi Rust Vs. Daisi Rust\n",
      "... -  Issi Rust is the winner!\n",
      "The Alpha Motive Champion is Issi Rust\n",
      "Kills = 6\n"
     ]
    },
    {
     "data": {
      "text/plain": [
       "{'name': 'Issi Rust',\n",
       " 'last_name': 'Rust',\n",
       " 'alive': 0,\n",
       " 'attributes': array([[0.82144103, 0.87782317, 1.01580749],\n",
       "        [0.86165815, 0.93049173, 0.64519594],\n",
       "        [0.8304147 , 0.81711866, 0.37663154]]),\n",
       " 'wins': 6,\n",
       " 'tournament_count': 2}"
      ]
     },
     "execution_count": 18,
     "metadata": {},
     "output_type": "execute_result"
    }
   ],
   "source": [
    "\n",
    "AMT = AlphaMotiveTournament(gen5)\n",
    "AMT.resetPools()\n",
    "AMT.tournament(printswitch=True)\n",
    "AMT.fighter_dict['fighters'][AMT.tournament_winner]"
   ]
  },
  {
   "cell_type": "code",
   "execution_count": null,
   "metadata": {},
   "outputs": [],
   "source": []
  }
 ],
 "metadata": {
  "kernelspec": {
   "display_name": "Python 3",
   "language": "python",
   "name": "python3"
  },
  "language_info": {
   "codemirror_mode": {
    "name": "ipython",
    "version": 3
   },
   "file_extension": ".py",
   "mimetype": "text/x-python",
   "name": "python",
   "nbconvert_exporter": "python",
   "pygments_lexer": "ipython3",
   "version": "3.6.5"
  }
 },
 "nbformat": 4,
 "nbformat_minor": 2
}
