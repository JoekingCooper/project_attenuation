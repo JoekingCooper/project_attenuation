{
 "cells": [
  {
   "cell_type": "code",
   "execution_count": 1,
   "metadata": {},
   "outputs": [],
   "source": [
    "import numpy as np\n",
    "import random\n",
    "import pickle\n",
    "from create_gen_0 import CreateGeneration0"
   ]
  },
  {
   "cell_type": "code",
   "execution_count": 2,
   "metadata": {},
   "outputs": [],
   "source": [
    "CG0 = CreateGeneration0(number_of_fighters = 64,attribute_dimensions = 3)\n",
    "CG0.pipeline()"
   ]
  },
  {
   "cell_type": "code",
   "execution_count": 3,
   "metadata": {},
   "outputs": [
    {
     "data": {
      "text/plain": [
       "'C:\\\\Users\\\\Joseph\\\\Documents\\\\project_attenuation\\\\notebooks'"
      ]
     },
     "execution_count": 3,
     "metadata": {},
     "output_type": "execute_result"
    }
   ],
   "source": [
    "import os\n",
    "cwd = os.getcwd()\n",
    "cwd"
   ]
  },
  {
   "cell_type": "code",
   "execution_count": null,
   "metadata": {},
   "outputs": [],
   "source": []
  },
  {
   "cell_type": "code",
   "execution_count": 4,
   "metadata": {},
   "outputs": [],
   "source": [
    "gen0path = os.path.abspath(os.path.join(cwd, '..', 'storage','base','data_dict_gen0.pickle'))\n",
    "\n",
    "with open(gen0path, 'rb') as handle:\n",
    "    gen0 = pickle.load(handle)\n"
   ]
  },
  {
   "cell_type": "code",
   "execution_count": 5,
   "metadata": {},
   "outputs": [],
   "source": [
    "from alpha_motive_tournament import AlphaMotiveTournament"
   ]
  },
  {
   "cell_type": "code",
   "execution_count": 6,
   "metadata": {},
   "outputs": [],
   "source": [
    "AMT = AlphaMotiveTournament(gen0)"
   ]
  },
  {
   "cell_type": "code",
   "execution_count": 7,
   "metadata": {},
   "outputs": [],
   "source": [
    "AMT.tournament(printswitch=False)"
   ]
  },
  {
   "cell_type": "code",
   "execution_count": 8,
   "metadata": {},
   "outputs": [],
   "source": [
    "AMT.produceAverageWinner()"
   ]
  },
  {
   "cell_type": "code",
   "execution_count": 9,
   "metadata": {},
   "outputs": [
    {
     "data": {
      "text/plain": [
       "array([[0.61824034, 0.08750483, 0.55689727],\n",
       "       [0.61350945, 0.40339633, 0.87700837],\n",
       "       [0.70488195, 0.77514184, 0.85319113]])"
      ]
     },
     "execution_count": 9,
     "metadata": {},
     "output_type": "execute_result"
    }
   ],
   "source": [
    "AMT.tournament_winner_stats"
   ]
  },
  {
   "cell_type": "code",
   "execution_count": 10,
   "metadata": {},
   "outputs": [
    {
     "data": {
      "text/plain": [
       "0.6099746144622821"
      ]
     },
     "execution_count": 10,
     "metadata": {},
     "output_type": "execute_result"
    }
   ],
   "source": [
    "AMT.tournament_winner_stats.mean()"
   ]
  },
  {
   "cell_type": "code",
   "execution_count": 11,
   "metadata": {},
   "outputs": [
    {
     "data": {
      "text/plain": [
       "array([[0.55750792, 0.55855075, 0.49542559],\n",
       "       [0.42079764, 0.508474  , 0.58824197],\n",
       "       [0.57772797, 0.55964249, 0.53279471]])"
      ]
     },
     "execution_count": 11,
     "metadata": {},
     "output_type": "execute_result"
    }
   ],
   "source": [
    "AMT.averagewinner_stats"
   ]
  },
  {
   "cell_type": "code",
   "execution_count": 12,
   "metadata": {},
   "outputs": [
    {
     "data": {
      "text/plain": [
       "0.5332403367575336"
      ]
     },
     "execution_count": 12,
     "metadata": {},
     "output_type": "execute_result"
    }
   ],
   "source": [
    "AMT.averagewinner_stats.mean()"
   ]
  },
  {
   "cell_type": "code",
   "execution_count": 13,
   "metadata": {},
   "outputs": [],
   "source": [
    "AMT.resetPools()\n",
    "AMT.tournament(printswitch=False)"
   ]
  },
  {
   "cell_type": "code",
   "execution_count": 14,
   "metadata": {},
   "outputs": [],
   "source": [
    "AMT.resetPools()\n",
    "AMT.tournament(printswitch=False)"
   ]
  },
  {
   "cell_type": "code",
   "execution_count": 15,
   "metadata": {},
   "outputs": [
    {
     "data": {
      "text/plain": [
       "{'name': 'Selma Moon',\n",
       " 'last_name': 'Moon',\n",
       " 'alive': 0,\n",
       " 'attributes': array([[0.51661846, 0.84420322, 0.29003573],\n",
       "        [0.50774159, 0.51525571, 0.49289884],\n",
       "        [0.31443126, 0.91951311, 0.80360177]]),\n",
       " 'wins': 6,\n",
       " 'tournament_count': 3}"
      ]
     },
     "execution_count": 15,
     "metadata": {},
     "output_type": "execute_result"
    }
   ],
   "source": [
    "AMT.fighter_dict[AMT.tournament_winner]"
   ]
  },
  {
   "cell_type": "code",
   "execution_count": 16,
   "metadata": {},
   "outputs": [],
   "source": [
    "gen1path = os.path.abspath(os.path.join(cwd, '..', 'storage','generation_1_pool','gen0_dead.pickle'))\n",
    "\n",
    "with open(gen1path, 'wb') as handle:\n",
    "    pickle.dump(AMT.fighter_dict,handle)"
   ]
  },
  {
   "cell_type": "markdown",
   "metadata": {},
   "source": [
    "# so we have a dead generation, now lets make a new generation\n",
    "first load in the old generation"
   ]
  },
  {
   "cell_type": "code",
   "execution_count": 17,
   "metadata": {},
   "outputs": [],
   "source": [
    "gen0deadpath = os.path.abspath(os.path.join(cwd, '..', 'storage','generation_1_pool','gen0_dead.pickle'))\n",
    "\n",
    "with open(gen0deadpath, 'rb') as handle:\n",
    "    gen0dead = pickle.load(handle)"
   ]
  },
  {
   "cell_type": "markdown",
   "metadata": {},
   "source": [
    "# create x fighters (8?) to start with, choose two random fighters and weight their values by their wins\n",
    "(so f1_matrix*f1_wins*f1_mask+f2_matrix*f2_wins*f2_mask)/(f1_wins*f1_mask+f2_wins*f2_mask)"
   ]
  },
  {
   "cell_type": "code",
   "execution_count": null,
   "metadata": {},
   "outputs": [],
   "source": []
  },
  {
   "cell_type": "code",
   "execution_count": 18,
   "metadata": {},
   "outputs": [
    {
     "name": "stdout",
     "output_type": "stream",
     "text": [
      "{'name': 'Alyda Tornak', 'last_name': 'Tornak', 'alive': 0, 'attributes': array([[0.28042826, 0.67245874, 0.10482412],\n",
      "       [0.68360011, 0.7483288 , 0.53408064],\n",
      "       [0.39682621, 0.99891621, 0.0513793 ]]), 'wins': 3, 'tournament_count': 3} {'name': 'Paulette Crossfire', 'last_name': 'Crossfire', 'alive': 0, 'attributes': array([[0.44557008, 0.14740741, 0.16878396],\n",
      "       [0.23258242, 0.12240357, 0.72979204],\n",
      "       [0.67268643, 0.43949645, 0.16173418]]), 'wins': 6, 'tournament_count': 3}\n"
     ]
    },
    {
     "name": "stderr",
     "output_type": "stream",
     "text": [
      "c:\\users\\joseph\\appdata\\local\\programs\\python\\python36\\lib\\site-packages\\ipykernel_launcher.py:19: RuntimeWarning: invalid value encountered in true_divide\n"
     ]
    },
    {
     "data": {
      "text/plain": [
       "array([[0.40546433, 0.42685295, 0.151353  ],\n",
       "       [0.04766683, 0.44304885, 0.59529236],\n",
       "       [0.55120581, 0.67728091, 0.08470546]])"
      ]
     },
     "execution_count": 18,
     "metadata": {},
     "output_type": "execute_result"
    }
   ],
   "source": [
    "#grab test fighters\n",
    "testfighter1 = gen0dead[list(gen0dead.keys())[0]]\n",
    "testfighter2 = gen0dead[list(gen0dead.keys())[1]]\n",
    "print(testfighter1,testfighter2)\n",
    "\n",
    "#mask creating function\n",
    "matrix_dimensions = testfighter1['attributes'].shape\n",
    "def get_matrix_mask():\n",
    "    mask_test = np.full(matrix_dimensions,True)\n",
    "    mask_test[0,0] = False\n",
    "    np.random.shuffle(mask_test)\n",
    "    return mask_test\n",
    "\n",
    "#(so f1_matrix*f1_wins*f1_mask+f2_matrix*f2_wins*f2_mask)/(f1_wins*f1_mask+f2_wins*f2_mask)\n",
    "#get masks\n",
    "tf1_mask = get_matrix_mask()\n",
    "tf2_mask = get_matrix_mask()\n",
    "#create pure attributes from parents\n",
    "base_fighter_attributes = (testfighter1['attributes']*testfighter2['wins']*tf1_mask+testfighter2['attributes']*testfighter2['wins']*tf2_mask)/(testfighter2['wins']*tf1_mask+testfighter2['wins']*tf2_mask)\n",
    "base_fighter_attributes = np.nan_to_num(base_fighter_attributes)\n",
    "\n",
    "#set mutation rate\n",
    "mutation_rate = 0.1\n",
    "#mutate new fighter\n",
    "mutation = np.random.rand(matrix_dimensions[0],matrix_dimensions[0])-0.5\n",
    "new_fighter_attributes = base_fighter_attributes + mutation*mutation_rate\n",
    "new_fighter_attributes"
   ]
  },
  {
   "cell_type": "markdown",
   "metadata": {},
   "source": [
    "### this seems to work, but the attributes are really normalised between the parents\n",
    "could instead just make the probabilities that each fighter is picked based on wins, then just randomly pick atts from each"
   ]
  },
  {
   "cell_type": "code",
   "execution_count": 19,
   "metadata": {},
   "outputs": [
    {
     "name": "stdout",
     "output_type": "stream",
     "text": [
      "{'name': 'Alyda Tornak', 'last_name': 'Tornak', 'alive': 0, 'attributes': array([[0.28042826, 0.67245874, 0.10482412],\n",
      "       [0.68360011, 0.7483288 , 0.53408064],\n",
      "       [0.39682621, 0.99891621, 0.0513793 ]]), 'wins': 3, 'tournament_count': 3} {'name': 'Paulette Crossfire', 'last_name': 'Crossfire', 'alive': 0, 'attributes': array([[0.44557008, 0.14740741, 0.16878396],\n",
      "       [0.23258242, 0.12240357, 0.72979204],\n",
      "       [0.67268643, 0.43949645, 0.16173418]]), 'wins': 6, 'tournament_count': 3}\n"
     ]
    },
    {
     "data": {
      "text/plain": [
       "(array([[0.44557008, 0.67245874, 0.10482412],\n",
       "        [0.68360011, 0.12240357, 0.53408064],\n",
       "        [0.67268643, 0.43949645, 0.0513793 ]]),\n",
       " array([[0.46152248, 0.68122797, 0.06665428],\n",
       "        [0.69231401, 0.11232115, 0.54136037],\n",
       "        [0.70834516, 0.44575092, 0.0802469 ]]))"
      ]
     },
     "execution_count": 19,
     "metadata": {},
     "output_type": "execute_result"
    }
   ],
   "source": [
    "#grab test fighters\n",
    "testfighter1 = gen0dead[list(gen0dead.keys())[0]]\n",
    "testfighter2 = gen0dead[list(gen0dead.keys())[1]]\n",
    "print(testfighter1,testfighter2)\n",
    "\n",
    "#mask creating function\n",
    "matrix_dimensions = testfighter1['attributes'].shape\n",
    "def get_matrix_mask_2():\n",
    "    mask_test = np.full(matrix_dimensions[0]**2,True)\n",
    "    \n",
    "    mask_test[0:int(matrix_dimensions[0]**2/2)] = False\n",
    "    np.random.shuffle(mask_test)\n",
    "    return mask_test.reshape(matrix_dimensions)\n",
    "\n",
    "#(so f1_matrix*f1_wins*f1_mask+f2_matrix*f2_wins*f2_mask)/(f1_wins*f1_mask+f2_wins*f2_mask)\n",
    "#get masks\n",
    "tf1_mask = get_matrix_mask_2()\n",
    "tf2_mask = np.invert(tf1_mask)\n",
    "#create pure attributes from parents\n",
    "base_fighter_attributes = (testfighter1['attributes']*tf1_mask+testfighter2['attributes']*tf2_mask)\n",
    "base_fighter_attributes = np.nan_to_num(base_fighter_attributes)\n",
    "\n",
    "#set mutation rate\n",
    "mutation_rate = 0.1\n",
    "#mutate new fighter\n",
    "mutation = np.random.rand(matrix_dimensions[0],matrix_dimensions[0])-0.5\n",
    "new_fighter_attributes = base_fighter_attributes + mutation*mutation_rate\n",
    "base_fighter_attributes,new_fighter_attributes"
   ]
  },
  {
   "cell_type": "code",
   "execution_count": 20,
   "metadata": {},
   "outputs": [
    {
     "data": {
      "text/plain": [
       "array([[ True, False, False],\n",
       "       [False,  True, False],\n",
       "       [ True,  True, False]])"
      ]
     },
     "execution_count": 20,
     "metadata": {},
     "output_type": "execute_result"
    }
   ],
   "source": [
    "np.invert(tf1_mask)"
   ]
  },
  {
   "cell_type": "code",
   "execution_count": 21,
   "metadata": {},
   "outputs": [
    {
     "data": {
      "text/plain": [
       "array([[False,  True,  True],\n",
       "       [ True, False,  True],\n",
       "       [False, False,  True]])"
      ]
     },
     "execution_count": 21,
     "metadata": {},
     "output_type": "execute_result"
    }
   ],
   "source": [
    "tf1_mask"
   ]
  },
  {
   "cell_type": "markdown",
   "metadata": {},
   "source": [
    "# how to choose fighters?\n",
    "numpy.random.choice(indexlist, probabilities)\n",
    "\n",
    "need to make lists with indexes and probabilities"
   ]
  },
  {
   "cell_type": "code",
   "execution_count": 22,
   "metadata": {},
   "outputs": [],
   "source": [
    "indexlist = list(gen0dead.keys())\n",
    "wins = []\n",
    "for key in indexlist:\n",
    "    wins.append(gen0dead[key]['wins'])\n",
    "fighter_probabilities = np.array(wins)/sum(wins)\n"
   ]
  },
  {
   "cell_type": "code",
   "execution_count": 23,
   "metadata": {},
   "outputs": [
    {
     "data": {
      "text/plain": [
       "'g1_c17'"
      ]
     },
     "execution_count": 23,
     "metadata": {},
     "output_type": "execute_result"
    }
   ],
   "source": [
    "np.random.choice(indexlist, p=fighter_probabilities)"
   ]
  },
  {
   "cell_type": "code",
   "execution_count": 24,
   "metadata": {},
   "outputs": [],
   "source": [
    "#tested works awesomely, lets now clean some of the cool bits up, like the name etc"
   ]
  },
  {
   "cell_type": "code",
   "execution_count": 25,
   "metadata": {},
   "outputs": [
    {
     "name": "stdout",
     "output_type": "stream",
     "text": [
      "Dari Northwind Cloris Rust\n",
      "Philipa Northwind\n"
     ]
    },
    {
     "data": {
      "text/plain": [
       "array([[0.90874681, 0.92397261, 0.74229818],\n",
       "       [0.16044533, 0.29349095, 0.06023977],\n",
       "       [0.96209012, 0.89964107, 0.96224108]])"
      ]
     },
     "execution_count": 25,
     "metadata": {},
     "output_type": "execute_result"
    }
   ],
   "source": [
    "#grab test fighters\n",
    "testfighter1 = gen0dead[np.random.choice(indexlist, p=fighter_probabilities)]\n",
    "testfighter2 = gen0dead[np.random.choice(indexlist, p=fighter_probabilities)]\n",
    "#name new fighter\n",
    "file_first_name_list = 'first-names.txt'\n",
    "first_name_list_path = os.path.abspath(os.path.join(cwd, '..', 'storage','resources',file_first_name_list))\n",
    "text_file = open(first_name_list_path, \"r\")\n",
    "first_name_list = text_file.read().split('\\n')\n",
    "text_file.close()\n",
    "\n",
    "\n",
    "print(testfighter1['name'],testfighter2['name'])\n",
    "new_first_name = random.choice(first_name_list)\n",
    "new_last_name = random.choice([testfighter1['last_name'],testfighter2['last_name']])\n",
    "print(new_first_name,new_last_name)\n",
    "#mask creating function\n",
    "matrix_dimensions = testfighter1['attributes'].shape\n",
    "def get_matrix_mask_2():\n",
    "    mask_test = np.full(matrix_dimensions[0]**2,True)\n",
    "    \n",
    "    mask_test[0:int(matrix_dimensions[0]**2/2)] = False\n",
    "    np.random.shuffle(mask_test)\n",
    "    return mask_test.reshape(matrix_dimensions)\n",
    "\n",
    "#(so f1_matrix*f1_wins*f1_mask+f2_matrix*f2_wins*f2_mask)/(f1_wins*f1_mask+f2_wins*f2_mask)\n",
    "#get masks\n",
    "tf1_mask = get_matrix_mask_2()\n",
    "tf2_mask = np.invert(tf1_mask)\n",
    "#create pure attributes from parents\n",
    "base_fighter_attributes = (testfighter1['attributes']*tf1_mask+testfighter2['attributes']*tf2_mask)\n",
    "base_fighter_attributes = np.nan_to_num(base_fighter_attributes)\n",
    "\n",
    "#set mutation rate\n",
    "mutation_rate = 0.1\n",
    "#mutate new fighter\n",
    "mutation = np.random.rand(matrix_dimensions[0],matrix_dimensions[0])-0.5\n",
    "new_fighter_attributes = base_fighter_attributes + mutation*mutation_rate\n",
    "#\n",
    "\n",
    "\n",
    "new_fighter_attributes"
   ]
  },
  {
   "cell_type": "code",
   "execution_count": null,
   "metadata": {},
   "outputs": [],
   "source": []
  }
 ],
 "metadata": {
  "kernelspec": {
   "display_name": "Python 3",
   "language": "python",
   "name": "python3"
  },
  "language_info": {
   "codemirror_mode": {
    "name": "ipython",
    "version": 3
   },
   "file_extension": ".py",
   "mimetype": "text/x-python",
   "name": "python",
   "nbconvert_exporter": "python",
   "pygments_lexer": "ipython3",
   "version": "3.6.5"
  }
 },
 "nbformat": 4,
 "nbformat_minor": 2
}
