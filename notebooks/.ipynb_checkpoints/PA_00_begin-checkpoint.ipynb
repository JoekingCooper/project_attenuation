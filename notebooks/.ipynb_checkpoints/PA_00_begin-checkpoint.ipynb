{
 "cells": [
  {
   "cell_type": "markdown",
   "metadata": {},
   "source": [
    "Architecture:\n",
    "\n",
    "have 2^n fighters with random attributes and random names,\n",
    "\n",
    "create tournament where they can fight to see who wins"
   ]
  },
  {
   "cell_type": "code",
   "execution_count": 46,
   "metadata": {},
   "outputs": [],
   "source": [
    "import numpy as np\n",
    "import random"
   ]
  },
  {
   "cell_type": "code",
   "execution_count": 47,
   "metadata": {},
   "outputs": [],
   "source": [
    "generation1 = dict()"
   ]
  },
  {
   "cell_type": "code",
   "execution_count": 48,
   "metadata": {},
   "outputs": [],
   "source": [
    "names = [\n",
    "    'Smoke',\n",
    "    'Lysander',\n",
    "    'Tommy Fish',\n",
    "    'Eonilus',\n",
    "    'Gale Ferran',\n",
    "    'Cooper',\n",
    "    'Kraven',\n",
    "    'Nebacuzza',\n",
    "    'Santana',\n",
    "    \n",
    "]\n",
    "ids = [\n",
    "    'g1_c1',\n",
    "    'g1_c2',\n",
    "    'g1_c3',\n",
    "    'g1_c4',\n",
    "    'g1_c5',\n",
    "    'g1_c6',\n",
    "    'g1_c7',\n",
    "    'g1_c8'\n",
    "]\n"
   ]
  },
  {
   "cell_type": "code",
   "execution_count": 49,
   "metadata": {},
   "outputs": [
    {
     "name": "stdout",
     "output_type": "stream",
     "text": [
      "g1_c1 0\n",
      "g1_c2 1\n",
      "g1_c3 2\n",
      "g1_c4 3\n",
      "g1_c5 4\n",
      "g1_c6 5\n",
      "g1_c7 6\n",
      "g1_c8 7\n"
     ]
    }
   ],
   "source": [
    "#populate dictionary for each character\n",
    "for num,i in enumerate(ids):\n",
    "    #populate the name\n",
    "    print(i,num)\n",
    "    generation1[i] = dict()\n",
    "    generation1[i]['name'] = names[num]\n",
    "    generation1[i]['alive'] = 1\n",
    "    generation1[i]['attributes'] = np.random.rand(2,2)\n",
    "    generation1[i]['wins'] = 0"
   ]
  },
  {
   "cell_type": "code",
   "execution_count": 58,
   "metadata": {},
   "outputs": [],
   "source": [
    "def number_of_rounds(n):\n",
    "    return np.floor(np.log(n)/np.log(2))"
   ]
  },
  {
   "cell_type": "code",
   "execution_count": 99,
   "metadata": {},
   "outputs": [
    {
     "data": {
      "text/plain": [
       "['g1_c0',\n",
       " 'g1_c1',\n",
       " 'g1_c2',\n",
       " 'g1_c3',\n",
       " 'g1_c4',\n",
       " 'g1_c5',\n",
       " 'g1_c6',\n",
       " 'g1_c7',\n",
       " 'g1_c8',\n",
       " 'g1_c9',\n",
       " 'g1_c10',\n",
       " 'g1_c11',\n",
       " 'g1_c12',\n",
       " 'g1_c13',\n",
       " 'g1_c14',\n",
       " 'g1_c15']"
      ]
     },
     "execution_count": 99,
     "metadata": {},
     "output_type": "execute_result"
    }
   ],
   "source": [
    " [\"g1_c\" + str(num) for num in range(16)]"
   ]
  },
  {
   "cell_type": "code",
   "execution_count": 102,
   "metadata": {},
   "outputs": [
    {
     "data": {
      "text/plain": [
       "'C:\\\\Users\\\\Joseph\\\\Documents\\\\project_attenuation\\\\notebooks'"
      ]
     },
     "execution_count": 102,
     "metadata": {},
     "output_type": "execute_result"
    }
   ],
   "source": [
    "import os\n",
    "cwd = os.getcwd()\n",
    "cwd"
   ]
  },
  {
   "cell_type": "code",
   "execution_count": 111,
   "metadata": {},
   "outputs": [],
   "source": [
    "namelist_file = 'last-names.txt'\n",
    "name_list_path = os.path.abspath(os.path.join(cwd, '..', 'storage','resources',namelist_file))\n",
    "text_file = open(name_list_path, \"r\")\n",
    "lines = text_file.read().split('\\n')\n",
    "text_file.close()"
   ]
  },
  {
   "cell_type": "code",
   "execution_count": 113,
   "metadata": {},
   "outputs": [],
   "source": [
    "import pickle"
   ]
  },
  {
   "cell_type": "code",
   "execution_count": 117,
   "metadata": {},
   "outputs": [
    {
     "name": "stdout",
     "output_type": "stream",
     "text": [
      "{'g1_c1': {'name': 'Smoke', 'alive': 1, 'attributes': array([[0.72513799, 0.49837107],\n",
      "       [0.28796837, 0.69496781]])}, 'g1_c2': {'name': 'Lysander', 'alive': 1, 'attributes': array([[0.44284214, 0.17187572],\n",
      "       [0.47700039, 0.03807749]])}, 'g1_c3': {'name': 'Tommy Fish', 'alive': 1, 'attributes': array([[0.56978849, 0.58729629],\n",
      "       [0.94826885, 0.90163053]])}, 'g1_c4': {'name': 'Eonilus', 'alive': 1, 'attributes': array([[0.58057065, 0.72406071],\n",
      "       [0.84946383, 0.76003244]])}, 'g1_c5': {'name': 'Gale Ferran', 'alive': 1, 'attributes': array([[0.56923808, 0.99208152],\n",
      "       [0.20196564, 0.73920364]])}, 'g1_c6': {'name': 'Cooper', 'alive': 1, 'attributes': array([[0.06602933, 0.26185511],\n",
      "       [0.2992845 , 0.24679456]])}, 'g1_c7': {'name': 'Kraven', 'alive': 1, 'attributes': array([[0.97447263, 0.64754659],\n",
      "       [0.89028594, 0.79972429]])}, 'g1_c8': {'name': 'Nebacuzza', 'alive': 1, 'attributes': array([[0.19176252, 0.16463827],\n",
      "       [0.36034279, 0.43065916]])}}\n"
     ]
    }
   ],
   "source": [
    "\n",
    "with open('generation_0.pickle', 'wb') as handle:\n",
    "    pickle.dump(generation1, handle, protocol=pickle.HIGHEST_PROTOCOL)\n",
    "\n",
    "with open('generation_0.pickle', 'rb') as handle:\n",
    "    b = pickle.load(handle)\n",
    "print(b)"
   ]
  },
  {
   "cell_type": "code",
   "execution_count": null,
   "metadata": {},
   "outputs": [],
   "source": []
  },
  {
   "cell_type": "code",
   "execution_count": 59,
   "metadata": {},
   "outputs": [
    {
     "data": {
      "text/plain": [
       "3.0"
      ]
     },
     "execution_count": 59,
     "metadata": {},
     "output_type": "execute_result"
    }
   ],
   "source": [
    "rounds = number_of_rounds(len(ids))\n",
    "rounds"
   ]
  },
  {
   "cell_type": "code",
   "execution_count": 75,
   "metadata": {},
   "outputs": [
    {
     "name": "stdout",
     "output_type": "stream",
     "text": [
      "Kraven is the winner!\n"
     ]
    }
   ],
   "source": [
    "#create tournament pool\n",
    "pool_1 = ids.copy()\n",
    "pool_dead = []\n",
    "pool_2 = []\n",
    "#do single fight\n",
    "#get two contestants and remove from pool 1\n",
    "contestant1 = random.choice(pool_1)\n",
    "pool_1.remove(contestant1)\n",
    "contestant2 = random.choice(pool_1)\n",
    "pool_1.remove(contestant2)\n",
    "#get indx mapping for fight, random values are compared to decide the winner.\n",
    "inx_0 = random.randint(0, 1)\n",
    "inx_1 = random.randint(0, 1)\n",
    "#access the comparison fight values\n",
    "contestant1_score = generation1[contestant1]['attributes'][inx_0][inx_1]\n",
    "contestant2_score = generation1[contestant2]['attributes'][inx_0][inx_1]\n",
    "# give winner and looser\n",
    "winner = np.where(contestant1_score>=contestant2_score,contestant1,contestant2).item()\n",
    "print(generation1[winner]['name'],'is the winner!')\n",
    "loser = np.where(contestant1_score>=contestant2_score,contestant1,contestant2).item()\n",
    "\n",
    "# add winner to next pool\n",
    "pool_2.append(winner)\n",
    "# add loser to pool dead pool\n",
    "pool_dead.append(loser)\n"
   ]
  },
  {
   "cell_type": "code",
   "execution_count": 90,
   "metadata": {},
   "outputs": [],
   "source": [
    "#turn into function\n",
    "#create tournament pool\n",
    "\n",
    "#do single fight\n",
    "#get two contestants and remove from pool 1\n",
    "def single_fight(generation1,pool_1,pool_2,pool_dead):\n",
    "    contestant1 = random.choice(pool_1)\n",
    "    pool_1.remove(contestant1)\n",
    "    contestant2 = random.choice(pool_1)\n",
    "    pool_1.remove(contestant2)\n",
    "    #get indx mapping for fight, random values are compared to decide the winner.\n",
    "    inx_0 = random.randint(0, 1)\n",
    "    inx_1 = random.randint(0, 1)\n",
    "    #access the comparison fight values\n",
    "    contestant1_score = generation1[contestant1]['attributes'][inx_0][inx_1]\n",
    "    contestant2_score = generation1[contestant2]['attributes'][inx_0][inx_1]\n",
    "    # give winner and looser\n",
    "    winner = np.where(contestant1_score>=contestant2_score,contestant1,contestant2).item()\n",
    "    print(generation1[winner]['name'],'is the winner! Their score was:',generation1[winner]['attributes'][inx_0][inx_1])\n",
    "    loser = np.where(contestant1_score<contestant2_score,contestant1,contestant2).item()\n",
    "    return winner, loser\n"
   ]
  },
  {
   "cell_type": "code",
   "execution_count": 91,
   "metadata": {},
   "outputs": [
    {
     "name": "stdout",
     "output_type": "stream",
     "text": [
      "Gale Ferran is the winner! Their score was: 0.9920815160795913\n",
      "Eonilus is the winner! Their score was: 0.8494638281381317\n",
      "Tommy Fish is the winner! Their score was: 0.9016305301033363\n",
      "Lysander is the winner! Their score was: 0.47700038985683024\n"
     ]
    }
   ],
   "source": [
    "#now try to do for entire pool\n",
    "#create pools\n",
    "pool_1 = ids.copy()\n",
    "pool_dead = []\n",
    "pool_2 = []\n",
    "for fight_num in range(int(len(pool_1)/2)):\n",
    "    #run fight\n",
    "    winner, loser = single_fight(generation1,pool_1,pool_2,pool_dead)\n",
    "    # add winner to next pool\n",
    "    pool_2.append(winner)\n",
    "    # add loser to pool dead pool\n",
    "    pool_dead.append(loser)"
   ]
  },
  {
   "cell_type": "code",
   "execution_count": 92,
   "metadata": {},
   "outputs": [
    {
     "name": "stdout",
     "output_type": "stream",
     "text": [
      "[] ['g1_c5', 'g1_c4', 'g1_c3', 'g1_c2'] ['g1_c8', 'g1_c6', 'g1_c7', 'g1_c1']\n"
     ]
    }
   ],
   "source": [
    "print(pool_1,pool_2,pool_dead)"
   ]
  },
  {
   "cell_type": "code",
   "execution_count": 93,
   "metadata": {},
   "outputs": [],
   "source": [
    "#try to productionise\n",
    "#create pools\n",
    "\n",
    "for fight_num in range(int(len(pool_1)/2)):\n",
    "    #run fight\n",
    "    winner, loser = single_fight(generation1,pool_1,pool_2,pool_dead)\n",
    "    # add winner to next pool\n",
    "    pool_2.append(winner)\n",
    "    # add loser to pool dead pool\n",
    "    pool_dead.append(loser)"
   ]
  },
  {
   "cell_type": "code",
   "execution_count": 97,
   "metadata": {},
   "outputs": [
    {
     "name": "stdout",
     "output_type": "stream",
     "text": [
      "Gale Ferran is the winner! Their score was: 0.9920815160795913\n",
      "Tommy Fish is the winner! Their score was: 0.9482688472301293\n",
      "Lysander is the winner! Their score was: 0.47700038985683024\n",
      "Kraven is the winner! Their score was: 0.7997242919690475\n",
      "Tommy Fish is the winner! Their score was: 0.5697884926713117\n",
      "Kraven is the winner! Their score was: 0.9744726284034901\n",
      "Tommy Fish is the winner! Their score was: 0.9016305301033363\n"
     ]
    }
   ],
   "source": [
    "#now have rounds\n",
    "pool_1 = ids.copy()\n",
    "pool_dead = []\n",
    "pool_2 = []\n",
    "for tournament_round in range(int(rounds)):\n",
    "    for fight_num in range(int(len(pool_1)/2)):\n",
    "        #run fight\n",
    "        winner, loser = single_fight(generation1,pool_1,pool_2,pool_dead)\n",
    "        # add winner to next pool\n",
    "        pool_2.append(winner)\n",
    "        # add loser to pool dead pool\n",
    "        pool_dead.append(loser)\n",
    "    pool_1 = pool_2.copy()\n",
    "    pool_2 = []"
   ]
  },
  {
   "cell_type": "code",
   "execution_count": 89,
   "metadata": {},
   "outputs": [
    {
     "data": {
      "text/plain": [
       "['g1_c5']"
      ]
     },
     "execution_count": 89,
     "metadata": {},
     "output_type": "execute_result"
    }
   ],
   "source": [
    "pool_1"
   ]
  },
  {
   "cell_type": "code",
   "execution_count": null,
   "metadata": {},
   "outputs": [],
   "source": []
  }
 ],
 "metadata": {
  "kernelspec": {
   "display_name": "Python 3",
   "language": "python",
   "name": "python3"
  },
  "language_info": {
   "codemirror_mode": {
    "name": "ipython",
    "version": 3
   },
   "file_extension": ".py",
   "mimetype": "text/x-python",
   "name": "python",
   "nbconvert_exporter": "python",
   "pygments_lexer": "ipython3",
   "version": "3.6.5"
  }
 },
 "nbformat": 4,
 "nbformat_minor": 2
}
